{
 "cells": [
  {
   "cell_type": "markdown",
   "metadata": {},
   "source": [
    "# Image Processing in Microscopy\n",
    "## Assignment 1: Nonlinear filters\n",
    "### General Info\n",
    "|Task|Date|Time|\n",
    "|:---:|:---:|:---:|\n",
    "|Hand-out| 13.11.2020| in Seminar|\n",
    "|Hand-in|  19.11.2020| 11:59 am|\n",
    "|Presentation| 20.11.2020| in Seminar|\n",
    "\n",
    "**Caution:** Please make sure that your provided solution works out of the box. Try to avoid the use of any further packages than suggested.\n",
    "\n",
    "### General Rules\n",
    "You can receive the following points for solving a task:\n",
    "\n",
    "|Point|Reason|\n",
    "|--:|:--|\n",
    "|0| Not handed in anything at all|\n",
    "|1| handed in code which is not working|\n",
    "|2| code works (=runs error-free) and partially solves the problem|\n",
    "|3| code solves the problem and is commented|\n",
    "|+1| Bonus for good comments and clean code|\n",
    "\n",
    "In the current state this course is planned to have 10 assignments to be solved with 1-4 problems each, leading to around 30points possible.    \n",
    "\n",
    "Our idea of the seminar is to guide you not only towards being able to process images with classical techniques, but to communicate your results with others by structuring your code with comments and giving you the opportunity to present your solution even if your results are wrong. Hence, there will be no points given for the presentation, but we can discuss and fix your problems together with everybody and hence have everyone learn from all the various errors that will arise. This will further prepare everybody better not only for the final examination, but for your future life as a image-analyst. \n",
    "\n",
    "### Exampination Requirements\n",
    "To be able to apply for the examination we require you to achieve: \n",
    "\n",
    "*   at least 40% of the possible points\n",
    "*   at least 2x present your solution\n",
    "\n",
    "Note, that for the presentation it doesn't matter whether you solved the task splendidly or not.\n",
    "\n",
    "### General Hints \n",
    "If a skeleton of the code for the given task is provided, please try to fit your solution within the provided skeleton. Once your solution works with the provided outline, you can construct and hand in your own (2nd) approach and coding-style as well. "
   ]
  },
  {
   "cell_type": "markdown",
   "metadata": {},
   "source": [
    "# Task 1: Filtering Cosmic Ray Events\n",
    "In nearly all measurement modalities you will eventually find yourself dealing with so called \"Hot Pixels\". Even though there might be a plethora of reasons on how they occur (and why they are not already cleaned by the sensor-internal-processing) we will assume now to have a measurement which suffers from the influence of \"Cosmic Rays\". In this task, we will first simulate such rays, then remove them and finally test the limitations of our applied technique. "
   ]
  },
  {
   "cell_type": "markdown",
   "metadata": {},
   "source": [
    "## 1a) Write a function that simulates the Cosmic Rays. \n",
    "This function should receive an image and introduce NumShots “hot pixels\" at random locations. Thus the functions has the parameters $\\omega_{sim} = (n_{hotPix},\\,A_{hotPix})$ for number $n_{hotPix}$ and value $A_{hotPix}$ of the hot pixels.\n",
    "\n",
    "Hints: \n",
    "\n",
    "```python\n",
    "np.random.randint?\n",
    "np.copy?\n",
    "np.flat?\n",
    "```"
   ]
  },
  {
   "cell_type": "code",
   "execution_count": null,
   "metadata": {},
   "outputs": [],
   "source": [
    "# imports \n",
    "import numpy as np\n",
    "import NanoImagingPack as nip\n",
    "from scipy.ndimage import median_filter\n",
    "%gui qt\n",
    "# get_ipython().run_line_magic('gui', 'qt')\n",
    "\n",
    "# function definitions \n",
    "def CosmicRaySim(im,n_hot=500,A_hot=255):\n",
    "    '''\n",
    "    Function that generates Cosmic Rays (=Hot Pixels). \n",
    "\n",
    "    :PARAMS:\n",
    "    ========\n",
    "    :im:        (IMAGE) input image\n",
    "    :n_hot: (INT)   number of hot shot-pixels\n",
    "    :A_hot: (INT)   value of hot-shot pixels\n",
    "\n",
    "    :OUTPUTS:\n",
    "    =========\n",
    "    :im_dirty:  (IMAGE) noisy image\n",
    "\n",
    "    :EXAMPLE:\n",
    "    =========\n",
    "    im = nip.readim('orka')\n",
    "    im_dirty = CosmicRaySim(im,n_hot=250,A_hot=210)\n",
    "    nip.vv(im_dirty)\n",
    "    '''\n",
    "    #your code goes here\n",
    "    pass\n",
    "\n",
    "    # done?\n",
    "    #return im_dirty\n"
   ]
  },
  {
   "cell_type": "markdown",
   "metadata": {},
   "source": [
    "## 1b) Test it."
   ]
  },
  {
   "cell_type": "code",
   "execution_count": null,
   "metadata": {},
   "outputs": [],
   "source": [
    "im = nip.readim('orka')\n",
    "im_dirty = CosmicRaySim(im)\n",
    "nip.vv(im_dirty)"
   ]
  },
  {
   "cell_type": "markdown",
   "metadata": {},
   "source": [
    "## 1c) Remove Shot Events. \n",
    "The “hot pixels\" and the threshold Value need to be identified first and then removed. Hence, we now have the following set of tuneable parameters: $\\omega_{filter} = (A_{thresh},\\, r_{kernel})$ for the threshold value $A_{thresh}$ and the kernelsize $r_{kernel}$. The input image should not be changed in the output except at the “hot” pixel location!\n",
    "\n",
    "\n",
    "Hints: \n",
    "```python\n",
    "\n",
    "    mymask=anImage > threshValue\n",
    "    scipy.ndimage.median_filter?\n",
    "    sp.signal.medfilt?\n",
    "```"
   ]
  },
  {
   "cell_type": "code",
   "execution_count": null,
   "metadata": {},
   "outputs": [],
   "source": [
    "def RemoveHotPixels(im, A_thresh=200, r_kernel=3):\n",
    "    '''\n",
    "    Removes the \"hot pixels\" above a thresh_val within a kernel of size kernel_size.\n",
    "\n",
    "    :PARAMS:\n",
    "    ========\n",
    "    :im:         (IMAGE) input image\n",
    "    :A_thresh:   (INT)   threshold_value\n",
    "    :r_kernel:   (INT)   size of thresholding kernel\n",
    "\n",
    "    :OUTPUTS:\n",
    "    =========\n",
    "    :im_clean:  cleaned image\n",
    "\n",
    "    :EXAMPLE:\n",
    "    =========\n",
    "    im = nip.readim('orka')\n",
    "    im_dirty = CosmicRaySim(im,n_hot=250,A_hot=210)\n",
    "    im_cleaned = RemoveHotPixels(im, A_thresh=190, r_kernel=4)\n",
    "    nip.vv(nip.catE((im,im_dirty,im_cleaned))) \n",
    "    '''\n",
    "    # your code goes here\n",
    "    pass\n",
    "    \n",
    "    # done?\n",
    "    #return nip.image(im_cleaned)\n"
   ]
  },
  {
   "cell_type": "markdown",
   "metadata": {},
   "source": [
    "## 1d) Test it."
   ]
  },
  {
   "cell_type": "code",
   "execution_count": null,
   "metadata": {},
   "outputs": [],
   "source": [
    "im_cleaned = RemoveHotPixels(im, A_thresh=190, r_kernel=4)\n",
    "nip.vv(nip.catE((im,im_dirty,im_cleaned))) "
   ]
  },
  {
   "cell_type": "markdown",
   "metadata": {},
   "source": [
    "## 1e) Find limits of implementation.\n",
    "Test your functions and show that it really removes the “hot” pixels. While imagening the input-image to stay constantly the same the simulation still holds multiple tuneable parameters. Now test different combinations of the and answer the following questions:\n",
    "\n",
    "*   What is a lower bound to $A_hot$ so that every hotpixel can be found for a $A_{thresh}$ and $A_{kernel}$ of your choice? ($n_{hot} > 100$)\n",
    "*   Fix $A_{hot} =  np.max(im) + 10 $ and $n_{hot} = $ ??\n",
    "\n",
    "Bonus: Can you find a neat way to make manual manipulation of this parameters easier/faster within ipython. (like eg using a small GUI)"
   ]
  },
  {
   "cell_type": "code",
   "execution_count": null,
   "metadata": {},
   "outputs": [],
   "source": []
  }
 ],
 "metadata": {
  "kernelspec": {
   "display_name": "Python 3",
   "language": "python",
   "name": "python3"
  },
  "language_info": {
   "codemirror_mode": {
    "name": "ipython",
    "version": 3
   },
   "file_extension": ".py",
   "mimetype": "text/x-python",
   "name": "python",
   "nbconvert_exporter": "python",
   "pygments_lexer": "ipython3",
   "version": "3.7.6"
  }
 },
 "nbformat": 4,
 "nbformat_minor": 2
}
